{
 "cells": [
  {
   "cell_type": "code",
   "execution_count": 25,
   "id": "e7bdb821",
   "metadata": {},
   "outputs": [],
   "source": [
    "import pandas as pd\n",
    "import math\n",
    "import numpy as np\n",
    "from scipy.stats import norm\n",
    "import datetime as dt\n",
    "\n",
    "# fetching data\n",
    "import yfinance as yf"
   ]
  },
  {
   "cell_type": "code",
   "execution_count": 26,
   "id": "a19d1318",
   "metadata": {},
   "outputs": [
    {
     "name": "stderr",
     "output_type": "stream",
     "text": [
      "\r",
      "[*********************100%***********************]  1 of 1 completed"
     ]
    },
    {
     "name": "stdout",
     "output_type": "stream",
     "text": [
      "Ticker             SPY\n",
      "Date                  \n",
      "2023-12-22  469.225250\n",
      "2023-12-26  471.206573\n",
      "2023-12-27  472.058563\n",
      "2023-12-28  472.236877\n",
      "2023-12-29  470.869751\n",
      "...                ...\n",
      "2024-12-16  606.789978\n",
      "2024-12-17  604.289978\n",
      "2024-12-18  586.280029\n",
      "2024-12-19  586.099976\n",
      "2024-12-20  594.250000\n",
      "\n",
      "[251 rows x 1 columns]\n"
     ]
    },
    {
     "name": "stderr",
     "output_type": "stream",
     "text": [
      "\n"
     ]
    }
   ],
   "source": [
    "stocks = ['SPY']\n",
    "years = 1\n",
    "endDate = dt.datetime.now()\n",
    "startDate = endDate- dt.timedelta(days = 365*years)\n",
    "adj_close_stock = yf.download(stocks, start=startDate, end=endDate)['Adj Close']\n",
    "\n",
    "print(adj_close_stock)"
   ]
  },
  {
   "cell_type": "code",
   "execution_count": 27,
   "id": "c29778b7",
   "metadata": {},
   "outputs": [
    {
     "name": "stdout",
     "output_type": "stream",
     "text": [
      "Ticker           SPY\n",
      "Date                \n",
      "2023-12-22       NaN\n",
      "2023-12-26  0.004223\n",
      "2023-12-27  0.001808\n",
      "2023-12-28  0.000378\n",
      "2023-12-29 -0.002895\n",
      "...              ...\n",
      "2024-12-16  0.004270\n",
      "2024-12-17 -0.004120\n",
      "2024-12-18 -0.029803\n",
      "2024-12-19 -0.000307\n",
      "2024-12-20  0.013906\n",
      "\n",
      "[251 rows x 1 columns]\n"
     ]
    }
   ],
   "source": [
    "Change_in_price = adj_close_stock.pct_change()\n",
    "print(Change_in_price)\n"
   ]
  },
  {
   "cell_type": "code",
   "execution_count": 28,
   "id": "8c2e3955",
   "metadata": {},
   "outputs": [
    {
     "name": "stdout",
     "output_type": "stream",
     "text": [
      "Ticker\n",
      "SPY    0.12448\n",
      "dtype: float64\n"
     ]
    }
   ],
   "source": [
    "#Defining variables\n",
    "S = 586.1 #underlying price\n",
    "K = 550 #strike price\n",
    "T = 0.01643835616 #time\n",
    "r = 4.50 #risk-free rate\n",
    "vol = np.std(Change_in_price)*np.sqrt(252) #volatility(sigma sign)\n",
    "print(vol)\n"
   ]
  },
  {
   "cell_type": "code",
   "execution_count": 50,
   "id": "2af36248",
   "metadata": {},
   "outputs": [],
   "source": [
    "N = 5\n",
    "delta = T/N\n",
    "u = np.exp(vol*np.sqrt(delta))\n",
    "d = 1/u\n",
    "p = (np.exp(r*0.01*delta)-d)/(u-d)\n"
   ]
  },
  {
   "cell_type": "code",
   "execution_count": 51,
   "id": "1540f03c",
   "metadata": {},
   "outputs": [
    {
     "name": "stdout",
     "output_type": "stream",
     "text": [
      "Ticker\n",
      "SPY    590.298242\n",
      "dtype: float64 Ticker\n",
      "SPY    581.931616\n",
      "dtype: float64\n",
      "Ticker\n",
      "SPY    16.227782\n",
      "dtype: float64\n"
     ]
    }
   ],
   "source": [
    "s_u = u*S\n",
    "s_d = d*S\n",
    "print(s_u,s_d)\n",
    "C_u = s_d-K\n",
    "C_d = 0\n",
    "C = np.exp(-r*0.01*T)*(p*C_u +(1-p)*C_d)\n",
    "print(C)"
   ]
  },
  {
   "cell_type": "code",
   "execution_count": 57,
   "id": "bc560872",
   "metadata": {},
   "outputs": [
    {
     "name": "stdout",
     "output_type": "stream",
     "text": [
      "[19.60349713 27.79287783 36.1        44.52655645 53.07426434]\n"
     ]
    },
    {
     "data": {
      "image/png": "[encoded data removed]",
      "text/plain": [
       "<Figure size 640x480 with 1 Axes>"
      ]
     },
     "metadata": {},
     "output_type": "display_data"
    }
   ],
   "source": [
    "import matplotlib.pyplot as plt\n",
    "from scipy.sparse import csc_matrix\n",
    "from scipy.stats import bernoulli\n",
    "\n",
    "stock_prices = csc_matrix((N,N))\n",
    "call_prices = csc_matrix((N,N))\n",
    "\n",
    "stock_prices[0,0] = S\n",
    "\n",
    "for i in range(1,N):\n",
    "    M = i+1\n",
    "    stock_prices[i,0]= d*stock_prices[i-1,0]\n",
    "    for j in range(1,M):\n",
    "        stock_prices[i,j] = u*stock_prices[i-1,j-1]\n",
    "\n",
    "expiration = stock_prices[-1,:].toarray()-K\n",
    "expiration.shape = (expiration.size,)\n",
    "expiration = np.where(expiration >=0, expiration, 0)\n",
    "\n",
    "call_prices[-1,:] = expiration\n",
    "plt.spy(call_prices)\n",
    "print(expiration)\n"
   ]
  },
  {
   "cell_type": "code",
   "execution_count": 53,
   "id": "9956a6ac",
   "metadata": {},
   "outputs": [
    {
     "name": "stdout",
     "output_type": "stream",
     "text": [
      "36.339261762187455\n"
     ]
    },
    {
     "data": {
      "image/png": "[encoded data removed]",
      "text/plain": [
       "<Figure size 640x480 with 1 Axes>"
      ]
     },
     "metadata": {},
     "output_type": "display_data"
    }
   ],
   "source": [
    "for i in range(N-2,-1,-1):\n",
    "    for j in range(i+1):\n",
    "        call_prices[i,j] = np.exp(-r*0.01*T)*((1-p)*call_prices[i+1,j]+p*call_prices[i+1,j+1])\n",
    "\n",
    "plt.spy(call_prices)\n",
    "print(call_prices[0,0])"
   ]
  },
  {
   "cell_type": "code",
   "execution_count": 56,
   "id": "fbb3da9f",
   "metadata": {},
   "outputs": [
    {
     "data": {
      "text/plain": [
       "<matplotlib.lines.Line2D at 0x2207d76dcf0>"
      ]
     },
     "execution_count": 56,
     "metadata": {},
     "output_type": "execute_result"
    },
    {
     "data": {
      "image/png": "[encoded data removed]",
      "text/plain": [
       "<Figure size 640x480 with 1 Axes>"
      ]
     },
     "metadata": {},
     "output_type": "display_data"
    }
   ],
   "source": [
    "plt.spy(stock_prices)"
   ]
  },
  {
   "cell_type": "code",
   "execution_count": null,
   "id": "3a481f2a",
   "metadata": {},
   "outputs": [],
   "source": []
  }
 ],
 "metadata": {
  "kernelspec": {
   "display_name": "Python 3 (ipykernel)",
   "language": "python",
   "name": "python3"
  },
  "language_info": {
   "codemirror_mode": {
    "name": "ipython",
    "version": 3
   },
   "file_extension": ".py",
   "mimetype": "text/x-python",
   "name": "python",
   "nbconvert_exporter": "python",
   "pygments_lexer": "ipython3",
   "version": "3.10.9"
  }
 },
 "nbformat": 4,
 "nbformat_minor": 5
}
